{
 "cells": [
  {
   "cell_type": "markdown",
   "metadata": {},
   "source": [
    "# Lesson 4: Running your first program\n",
    "\n",
    "Now it's your turn to try running Python code! \n",
    "\n",
    "Hit the play button on the video next to this Jupyter notebook to start the video and follow along as Andrew explains how to work through this lesson."
   ]
  },
  {
   "cell_type": "markdown",
   "metadata": {},
   "source": [
    "### 1. Hello, World!\n",
    "\n",
    "Below is the code for the \"Hello, World!\" program that you saw the chatbot write in the previous video. \n",
    "\n",
    "To run the code, click anywhere into the cell (the box with the code inside), and then type `Shift` + `Enter` (`Shift` + `Return` on a Mac) to execute."
   ]
  },
  {
   "cell_type": "code",
   "execution_count": 1,
   "metadata": {
    "height": 30
   },
   "outputs": [
    {
     "name": "stdout",
     "output_type": "stream",
     "text": [
      "Hello, World!\n"
     ]
    }
   ],
   "source": [
    "print(\"Hello, World!\")"
   ]
  },
  {
   "cell_type": "markdown",
   "metadata": {},
   "source": [
    "**Congratulations!** You have just joined the millions of people who have started their computer programming adventure by running this simple code!"
   ]
  },
  {
   "cell_type": "markdown",
   "metadata": {},
   "source": [
    "### 2. Hello, you!\n",
    "\n",
    "Let's create python code to say hello to you, instead of the world. Here are the steps to follow along with Andrew in the video:\n",
    "1. Open the chatbot\n",
    "2. Type in this prompt (substituting your name for mine)\n",
    "\n",
    "            Modify the code below to have it say hello to me.\n",
    "            \n",
    "            print(\"Hello, World!\")\n",
    "            \n",
    "            My name is Andrew\n",
    "   \n",
    "4. Paste the output code in the cell below using `Ctrl`+`V` (`Command`+`C` on a Mac)\n",
    "6. Press `Shift + Enter` to submit your prompt\n",
    "\n",
    "Once the chatbot has returned the code to you, you can copy and paste it into the cell below. Only copy the code in the black box - don't copy any conversation text that the chatbot writes."
   ]
  },
  {
   "cell_type": "code",
   "execution_count": 2,
   "metadata": {
    "height": 30
   },
   "outputs": [
    {
     "name": "stdout",
     "output_type": "stream",
     "text": [
      "Hello, L!\n"
     ]
    }
   ],
   "source": [
    "print(\"Hello, L!\")"
   ]
  },
  {
   "cell_type": "markdown",
   "metadata": {},
   "source": [
    "You should see Python print out \"Hello,\" followed by your name above.\n",
    "\n",
    "One other thing to notice here - when you run a code cell, the little square brackets to the left of the cell will change to a number."
   ]
  },
  {
   "cell_type": "markdown",
   "metadata": {},
   "source": [
    "### 3. Say hello to someone you love!\n",
    "\n",
    "Copy and paste (or just type out directly) the \"Hello, World!\" code in the cell below. Then modify the text between the quotation to say hello to your best friend, or favorite pet, or anyone else you love!"
   ]
  },
  {
   "cell_type": "code",
   "execution_count": 3,
   "metadata": {
    "height": 47
   },
   "outputs": [
    {
     "name": "stdout",
     "output_type": "stream",
     "text": [
      "Hello, Sweetie!\n"
     ]
    }
   ],
   "source": [
    "print(\"Hello, Sweetie!\")\n"
   ]
  },
  {
   "cell_type": "markdown",
   "metadata": {},
   "source": [
    "### 4. Comments in code\n",
    "You may be wondering what the text is in the cells above that starts with the `#` hash or pound symbol. This is a comment line. It tells Python that it can ignore anything that follows on that line after the `#` symbol. Comments are used to help other humans understand what your code does.\n",
    "\n",
    "Try running the next cell by pressing `Shift`+`Enter` - what do you think will happen?"
   ]
  },
  {
   "cell_type": "code",
   "execution_count": 4,
   "metadata": {
    "height": 30
   },
   "outputs": [],
   "source": [
    "# THIS IS A COMMENT - PYTHON WILL IGNORE THIS LINE"
   ]
  },
  {
   "cell_type": "markdown",
   "metadata": {},
   "source": [
    "The cell above runs just like the code you ran before - you saw the `*` appear to the left of the cell, and then change to a number. But this time nothing appeared on the screen.`\n",
    "\n",
    "A comment line is a valid piece of Python code. It tells Python to ignore what follows. Here, Python followed that command exactly, running the code, ignoring the text, and because the code had no output to return to you, it seemed like \"nothing happened.\"\n",
    "\n",
    "Click into the cell below and click `Shift`+`Enter` to run the code - make sure to ask yourself what you think will happen first, and then see if you were right."
   ]
  },
  {
   "cell_type": "code",
   "execution_count": 6,
   "metadata": {
    "height": 30
   },
   "outputs": [],
   "source": [
    "# print(\"This is a print statement!\")"
   ]
  },
  {
   "cell_type": "markdown",
   "metadata": {},
   "source": [
    "Now click into the cell again and type a `#` at the start of the line. What do you think this change will result in? Run the cell by pressing `Shift` + `Enter` to check!"
   ]
  },
  {
   "cell_type": "markdown",
   "metadata": {},
   "source": [
    "You can have multiple comment lines in your code, including one after another, and dispersed throughout your code:"
   ]
  },
  {
   "cell_type": "code",
   "execution_count": null,
   "metadata": {
    "height": 115
   },
   "outputs": [],
   "source": [
    "# This is an example of code with multiple\n",
    "# comments, including this one which\n",
    "# spans multiple lines\n",
    "print(\"Hello, Andrew!\")\n",
    "# Follow up with an additional print command\n",
    "print(\"How is your day going?\")"
   ]
  },
  {
   "cell_type": "markdown",
   "metadata": {},
   "source": [
    "### 5. Making mistakes is no big deal!\n",
    "\n",
    "Run the code in the next cell to see an example of how Python responds to code with an error in it."
   ]
  },
  {
   "cell_type": "code",
   "execution_count": 7,
   "metadata": {
    "height": 30
   },
   "outputs": [
    {
     "ename": "SyntaxError",
     "evalue": "EOL while scanning string literal (3226283439.py, line 1)",
     "output_type": "error",
     "traceback": [
      "\u001b[0;36m  Cell \u001b[0;32mIn[7], line 1\u001b[0;36m\u001b[0m\n\u001b[0;31m    print(\"Hello, Andrew!)\u001b[0m\n\u001b[0m                          ^\u001b[0m\n\u001b[0;31mSyntaxError\u001b[0m\u001b[0;31m:\u001b[0m EOL while scanning string literal\n"
     ]
    }
   ],
   "source": [
    "print(\"Hello, Andrew!)"
   ]
  },
  {
   "cell_type": "markdown",
   "metadata": {},
   "source": [
    "You can ask the chatbot to help you fix this code:\n",
    "1. Open the chatbot\n",
    "2. Enter the following prompt:\n",
    "\n",
    "       What is wrong with this code, and how do I fix it?\n",
    "\n",
    "       print(\"Hello, Andrew!)\n",
    "\n",
    "Fix the code in the next cell based on the chatbot's recommendation and run the cell using `Shift`+`Enter` to see if the fix worked!"
   ]
  },
  {
   "cell_type": "code",
   "execution_count": 8,
   "metadata": {
    "height": 62
   },
   "outputs": [
    {
     "name": "stdout",
     "output_type": "stream",
     "text": [
      "Hello, Andrew!\n"
     ]
    }
   ],
   "source": [
    "# Edit the code on the next line to correct the error \n",
    "print(\"Hello, Andrew!\")"
   ]
  },
  {
   "cell_type": "markdown",
   "metadata": {},
   "source": [
    "### Practice for yourself!\n",
    "\n",
    "You can practice what you've learned in this lesson by trying out the code exercises below. For each one, follow the instructions in the comment line, then write your code on the next line below the comment. Once you are done, run your code by typing `Shift` + `Enter`. You can do this as many times as you like."
   ]
  },
  {
   "cell_type": "code",
   "execution_count": 11,
   "metadata": {
    "height": 62
   },
   "outputs": [
    {
     "name": "stdout",
     "output_type": "stream",
     "text": [
      "My favorite color is blue.\n"
     ]
    }
   ],
   "source": [
    "favorite_color = \"blue\"\n",
    "print(\"My favorite color is \" + favorite_color + \".\")"
   ]
  },
  {
   "cell_type": "code",
   "execution_count": 12,
   "metadata": {
    "height": 81
   },
   "outputs": [
    {
     "name": "stdout",
     "output_type": "stream",
     "text": [
      "How are you feeling today?\n",
      "I'm feeling great today!\n"
     ]
    }
   ],
   "source": [
    "question = \"How are you feeling today?\"\n",
    "answer = \"I'm feeling great today!\"\n",
    "print(question)\n",
    "print(answer)"
   ]
  },
  {
   "cell_type": "code",
   "execution_count": 13,
   "metadata": {
    "height": 81
   },
   "outputs": [
    {
     "ename": "NameError",
     "evalue": "name 'question_1' is not defined",
     "output_type": "error",
     "traceback": [
      "\u001b[0;31m---------------------------------------------------------------------------\u001b[0m",
      "\u001b[0;31mNameError\u001b[0m                                 Traceback (most recent call last)",
      "Cell \u001b[0;32mIn[13], line 3\u001b[0m\n\u001b[1;32m      1\u001b[0m question \u001b[38;5;241m=\u001b[39m \u001b[38;5;124m\"\u001b[39m\u001b[38;5;124mHow are you feeling today?\u001b[39m\u001b[38;5;124m\"\u001b[39m\n\u001b[1;32m      2\u001b[0m answer \u001b[38;5;241m=\u001b[39m \u001b[38;5;124m\"\u001b[39m\u001b[38;5;124mI\u001b[39m\u001b[38;5;124m'\u001b[39m\u001b[38;5;124mm feeling great today!\u001b[39m\u001b[38;5;124m\"\u001b[39m\n\u001b[0;32m----> 3\u001b[0m \u001b[38;5;28mprint\u001b[39m(\u001b[43mquestion_1\u001b[49m)\n\u001b[1;32m      4\u001b[0m \u001b[38;5;28mprint\u001b[39m(answer_1)\n",
      "\u001b[0;31mNameError\u001b[0m: name 'question_1' is not defined"
     ]
    }
   ],
   "source": [
    "question = \"How are you feeling today?\"\n",
    "answer = \"I'm feeling great today!\"\n",
    "print(question_1)\n",
    "print(answer_1)"
   ]
  },
  {
   "cell_type": "code",
   "execution_count": 14,
   "metadata": {
    "height": 81
   },
   "outputs": [
    {
     "name": "stdout",
     "output_type": "stream",
     "text": [
      "How are you feeling today?\n",
      "I'm feeling great today!\n"
     ]
    }
   ],
   "source": [
    "question = \"How are you feeling today?\"\n",
    "answer = \"I'm feeling great today!\"\n",
    "print(question)\n",
    "print(answer)"
   ]
  },
  {
   "cell_type": "code",
   "execution_count": null,
   "metadata": {
    "height": 30
   },
   "outputs": [],
   "source": []
  }
 ],
 "metadata": {
  "kernelspec": {
   "display_name": "Python 3 (ipykernel)",
   "language": "python",
   "name": "python3"
  },
  "language_info": {
   "codemirror_mode": {
    "name": "ipython",
    "version": 3
   },
   "file_extension": ".py",
   "mimetype": "text/x-python",
   "name": "python",
   "nbconvert_exporter": "python",
   "pygments_lexer": "ipython3",
   "version": "3.9.19"
  }
 },
 "nbformat": 4,
 "nbformat_minor": 4
}
